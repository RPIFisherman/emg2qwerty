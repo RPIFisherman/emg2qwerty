{
 "cells": [
  {
   "cell_type": "markdown",
   "metadata": {},
   "source": [
    "| model | val/CER | test/CER |\n",
    "|-------|---------|----------|\n",
    "| base(CNN) | 28.51    | 28.70 |\n",
    "| GRU | 33.31    | 31.96 |\n",
    "| LSTM | 19.38    | 13.11 |\n",
    "| CNN + GRU | 19.38    | 13.11 |\n",
    "| CNN + LSTM | 19.38    | 13.11 |\n",
    "| Transformer| 19.38    | 13.11 |\n"
   ]
  },
  {
   "cell_type": "markdown",
   "metadata": {},
   "source": [
    "```mermaid\n",
    "graph TD\n",
    "    A[Original sEMG signal] --> B[ToTensor]\n",
    "    B --> C[generate LogSpectrogram]\n",
    "    C --> D[compress Lambda]\n",
    "    D --> E[Transformer: T,N,32]\n",
    "    E --> F[TransformerEncoder prrocessing]\n",
    "    F --> G[CTC Loss calculation]\n",
    "```"
   ]
  }
 ],
 "metadata": {
  "language_info": {
   "name": "python"
  }
 },
 "nbformat": 4,
 "nbformat_minor": 2
}
