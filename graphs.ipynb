{
 "cells": [
  {
   "cell_type": "markdown",
   "metadata": {},
   "source": [
    "<!-- Models Results (base come from the original model, all runs 30 epochs) \\cite{sivakumar2024emg2qwerty} -->\n",
    "| model | val/CER | test/CER |\n",
    "|-------|---------|----------|\n",
    "| base(CNN) |\t\t\t\t\t 33.47    | 37.08 |\n",
    "| GRU | \t\t\t\t\t\t 33.31    | 31.96 |\n",
    "| LSTM | \t\t\t\t\t\t 31.78    | 32.25 |\n",
    "| CNN + GRU | \t\t\t\t\t 27.42    | 27.87 |\n",
    "| CNN + LSTM | \t\t\t\t\t 28.51    | 28.70 |\n",
    "| Transformer(encoder) | \t\t 43.53    | 53.87 |"
   ]
  },
  {
   "cell_type": "markdown",
   "metadata": {},
   "source": [
    "```mermaid\n",
    "graph TD\n",
    "    A[Original sEMG signal] --> B[ToTensor]\n",
    "    B --> C[generate LogSpectrogram]\n",
    "    C --> D[compress Lambda]\n",
    "    D --> E[Transformer: T,N,32]\n",
    "    E --> F[TransformerEncoder prrocessing]\n",
    "    F --> G[CTC Loss calculation]\n",
    "```"
   ]
  }
 ],
 "metadata": {
  "language_info": {
   "name": "python"
  }
 },
 "nbformat": 4,
 "nbformat_minor": 2
}
