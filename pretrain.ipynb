{
 "cells": [
  {
   "cell_type": "code",
   "execution_count": null,
   "metadata": {},
   "outputs": [],
   "source": [
    "# edit"
   ]
  },
  {
   "cell_type": "code",
   "execution_count": 20,
   "metadata": {},
   "outputs": [
    {
     "name": "stdout",
     "output_type": "stream",
     "text": [
      "Data file exists for user 9456349 and session 2020-08-13-1597354281-keystrokes\n",
      "Data file exists for user 9456349 and session 2020-08-13-1597355141-keystrokes\n",
      "Data file exists for user 9456349 and session 2020-08-17-1597699312-keystrokes-09456349\n",
      "Data file exists for user 9456349 and session 2020-08-17-1597700134-keystrokes-09456349\n",
      "Data file exists for user 9456349 and session 2020-08-17-1597701568-keystrokes-09456349\n",
      "Data file exists for user 9456349 and session 2020-08-18-1597786596-keystrokes-09456349\n",
      "Data file exists for user 9456349 and session 2020-08-18-1597785842-keystrokes-09456349\n",
      "Data file exists for user 9456349 and session 2020-08-18-1597787379-keystrokes-09456349\n",
      "Data file exists for user 9456349 and session 2020-08-19-1597875875-keystrokes-09456349\n",
      "Data file exists for user 75228805 and session 2021-03-22-1616443154-keystrokes-dca-study@1-ce039945-b49a-44ea-b3d6-007dace1b7a3\n",
      "Data file exists for user 75228805 and session 2021-03-22-1616441073-keystrokes-dca-study@1-ce039945-b49a-44ea-b3d6-007dace1b7a3\n",
      "Data file exists for user 75228805 and session 2021-03-22-1616442020-keystrokes-dca-study@1-ce039945-b49a-44ea-b3d6-007dace1b7a3\n",
      "Data file exists for user 75228805 and session 2021-03-20-1616270483-keystrokes-dca-study@1-ce039945-b49a-44ea-b3d6-007dace1b7a3\n",
      "Data file exists for user 75228805 and session 2021-03-20-1616269232-keystrokes-dca-study@1-ce039945-b49a-44ea-b3d6-007dace1b7a3\n",
      "Data file exists for user 75228805 and session 2021-03-20-1616268131-keystrokes-dca-study@1-ce039945-b49a-44ea-b3d6-007dace1b7a3\n",
      "Data file exists for user 75228805 and session 2021-03-19-1616186516-keystrokes-dca-study@1-ce039945-b49a-44ea-b3d6-007dace1b7a3\n",
      "Data file exists for user 75228805 and session 2021-03-19-1616182233-keystrokes-dca-study@1-ce039945-b49a-44ea-b3d6-007dace1b7a3\n",
      "Data file exists for user 75228805 and session 2021-03-19-1616181237-keystrokes-dca-study@1-ce039945-b49a-44ea-b3d6-007dace1b7a3\n",
      "Data file exists for user 75228805 and session 2021-03-23-1616510910-keystrokes-dca-study@1-ce039945-b49a-44ea-b3d6-007dace1b7a3\n",
      "Data file exists for user 75228805 and session 2021-03-23-1616514852-keystrokes-dca-study@1-ce039945-b49a-44ea-b3d6-007dace1b7a3\n",
      "Data file exists for user 75228805 and session 2021-03-23-1616515853-keystrokes-dca-study@1-ce039945-b49a-44ea-b3d6-007dace1b7a3\n",
      "Data file exists for user 89335547 and session 2021-07-21-1626916256-keystrokes-dca-study@1-0efbe614-9ae6-4131-9192-4398359b4f5f\n",
      "Data file exists for user 89335547 and session 2021-07-21-1626915176-keystrokes-dca-study@1-0efbe614-9ae6-4131-9192-4398359b4f5f\n",
      "Data file exists for user 89335547 and session 2021-07-21-1626917264-keystrokes-dca-study@1-0efbe614-9ae6-4131-9192-4398359b4f5f\n",
      "Data file exists for user 89335547 and session 2021-06-02-1622679967-keystrokes-dca-study@1-0efbe614-9ae6-4131-9192-4398359b4f5f\n",
      "Data file exists for user 89335547 and session 2021-06-02-1622681518-keystrokes-dca-study@1-0efbe614-9ae6-4131-9192-4398359b4f5f\n",
      "Data file exists for user 89335547 and session 2021-06-02-1622682789-keystrokes-dca-study@1-0efbe614-9ae6-4131-9192-4398359b4f5f\n",
      "Data file exists for user 89335547 and session 2021-06-03-1622764398-keystrokes-dca-study@1-0efbe614-9ae6-4131-9192-4398359b4f5f\n",
      "Data file exists for user 89335547 and session 2021-06-03-1622765527-keystrokes-dca-study@1-0efbe614-9ae6-4131-9192-4398359b4f5f\n",
      "Data file exists for user 89335547 and session 2021-06-03-1622766673-keystrokes-dca-study@1-0efbe614-9ae6-4131-9192-4398359b4f5f\n",
      "Data file exists for user 89335547 and session 2021-06-04-1622861066-keystrokes-dca-study@1-0efbe614-9ae6-4131-9192-4398359b4f5f\n",
      "Data file exists for user 89335547 and session 2021-06-04-1622863166-keystrokes-dca-study@1-0efbe614-9ae6-4131-9192-4398359b4f5f\n",
      "Data file exists for user 89335547 and session 2021-06-04-1622862148-keystrokes-dca-study@1-0efbe614-9ae6-4131-9192-4398359b4f5f\n",
      "Data file exists for user 89335547 and session 2021-06-05-1622884635-keystrokes-dca-study@1-0efbe614-9ae6-4131-9192-4398359b4f5f\n",
      "Data file exists for user 89335547 and session 2021-06-05-1622885888-keystrokes-dca-study@1-0efbe614-9ae6-4131-9192-4398359b4f5f\n",
      "Data file exists for user 89335547 and session 2021-06-05-1622889105-keystrokes-dca-study@1-0efbe614-9ae6-4131-9192-4398359b4f5f\n",
      "Data file exists for user 89335547 and session 2021-07-22-1627003020-keystrokes-dca-study@1-0efbe614-9ae6-4131-9192-4398359b4f5f\n",
      "Data file exists for user 89335547 and session 2021-07-22-1627001995-keystrokes-dca-study@1-0efbe614-9ae6-4131-9192-4398359b4f5f\n",
      "Data file exists for user 89335547 and session 2021-07-22-1627004019-keystrokes-dca-study@1-0efbe614-9ae6-4131-9192-4398359b4f5f\n",
      "Filtered metadata saved.\n"
     ]
    }
   ],
   "source": [
    "import os\n",
    "import pandas as pd\n",
    "\n",
    "# Read the metadata.csv file\n",
    "metadata = pd.read_csv('data/metadata.csv')\n",
    "path = os.getcwd()\n",
    "\n",
    "# Function to check if the data file exists\n",
    "def data_file_exists(row):\n",
    "    user = str(row['user']).lstrip('0')\n",
    "    session = str(row['session']).lstrip('0')\n",
    "\n",
    "    data_file_path = os.path.join(path, 'data', user, session + '.hdf5')\n",
    "    if os.path.exists(data_file_path):\n",
    "        print(\"Data file exists for user \" + user + \" and session \" + session)\n",
    "        return True\n",
    "    else:\n",
    "        return False\n",
    "\n",
    "# Filter metadata to only keep rows where the data file exists\n",
    "metadata = metadata[metadata.apply(data_file_exists, axis=1)]\n",
    "\n",
    "# Optionally, save the filtered metadata back to a file\n",
    "metadata.to_csv('data/filtered_metadata.csv', index=False)\n",
    "\n",
    "print(\"Filtered metadata saved.\")\n"
   ]
  },
  {
   "cell_type": "code",
   "execution_count": null,
   "metadata": {},
   "outputs": [],
   "source": [
    "!mv data/metadata.csv data/original_metadata.csv\n",
    "!mv data/filtered_metadata.csv data/metadata.csv"
   ]
  },
  {
   "cell_type": "code",
   "execution_count": 1,
   "metadata": {},
   "outputs": [
    {
     "name": "stdout",
     "output_type": "stream",
     "text": [
      "          count  duration_hours  num_keystrokes\n",
      "user                                           \n",
      "89335547     18        4.815619           81803\n",
      "75228805     12        2.204047           51893\n",
      "9456349       9        1.514413           39911\n",
      "\n",
      "---------------\n",
      "\n",
      "Dataset Summary:\n",
      "Num users = 3\n",
      "Num sessions = 39\n",
      "Total duration = 8.53 hours\n",
      "Total keystrokes = 173607\n",
      "Total prompts = 6042\n",
      "\n",
      "---------------\n",
      "\n"
     ]
    }
   ],
   "source": [
    "!python scripts/print_dataset_stats.py"
   ]
  }
 ],
 "metadata": {
  "kernelspec": {
   "display_name": "Python 3",
   "language": "python",
   "name": "python3"
  },
  "language_info": {
   "codemirror_mode": {
    "name": "ipython",
    "version": 3
   },
   "file_extension": ".py",
   "mimetype": "text/x-python",
   "name": "python",
   "nbconvert_exporter": "python",
   "pygments_lexer": "ipython3",
   "version": "3.9.10"
  }
 },
 "nbformat": 4,
 "nbformat_minor": 2
}
